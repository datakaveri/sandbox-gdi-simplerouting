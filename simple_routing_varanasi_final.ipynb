{
 "cells": [
  {
   "cell_type": "markdown",
   "id": "650b6266-c5e6-4f71-bb58-37a7b2dcf2fe",
   "metadata": {},
   "source": [
    "# SIMPLE ROUTING\n",
    "(compute distance direction and route between two points)"
   ]
  },
  {
   "cell_type": "code",
   "execution_count": 1,
   "id": "ce5607d2-1c5b-4e8e-9a8c-7fdea00b6a83",
   "metadata": {},
   "outputs": [],
   "source": [
    "# create folder to save output\n",
    "import os\n",
    "# set the basepath - folder containing data and where the ouput will be written\n",
    "basepath = os.path.join(os.getcwd(), \"Output\")\n",
    "os.makedirs(basepath, exist_ok=True)"
   ]
  },
  {
   "cell_type": "markdown",
   "id": "f245f161-b909-48d5-a6dd-5a2f7215b8b3",
   "metadata": {},
   "source": [
    "## 1. Data Preparation\n",
    "1. combine all points of interest file\n",
    "2. Create 'place_name' attribute and add the names of all points of interest\n",
    "3. Remove duplicate place names\n",
    "4. The places in the final geodataframe will be used for further routing application"
   ]
  },
  {
   "cell_type": "code",
   "execution_count": 2,
   "id": "0524119c-3d65-4d8c-a093-915db2301a13",
   "metadata": {},
   "outputs": [],
   "source": [
    "import os\n",
    "import geopandas as gpd\n",
    "import pandas as pd\n",
    "\n",
    "import warnings\n",
    "warnings.filterwarnings(\"ignore\")"
   ]
  },
  {
   "cell_type": "code",
   "execution_count": 3,
   "id": "d2a1abae-2874-40d7-b41b-028235d733d0",
   "metadata": {},
   "outputs": [],
   "source": [
    "# Data (Points of interest features in Varanasi)\n",
    "amenity_data = \"https://iudx-cat-sandbox-dev.s3.ap-south-1.amazonaws.com/simplerouting-data/amenity_varanasi.gpkg\"\n",
    "historic_data = \"https://iudx-cat-sandbox-dev.s3.ap-south-1.amazonaws.com/simplerouting-data/shops_varanasi.gpkg\"\n",
    "shops_data = \"https://iudx-cat-sandbox-dev.s3.ap-south-1.amazonaws.com/simplerouting-data/shops_varanasi.gpkg\"\n",
    "tourism_data = \"https://iudx-cat-sandbox-dev.s3.ap-south-1.amazonaws.com/simplerouting-data/tourism_varanasi.gpkg\""
   ]
  },
  {
   "cell_type": "code",
   "execution_count": 4,
   "id": "ce5b468a-cb10-4370-99d5-10ac1786ab5f",
   "metadata": {},
   "outputs": [
    {
     "name": "stdout",
     "output_type": "stream",
     "text": [
      "Merged and converted geopackages to EPSG:4326\n"
     ]
    }
   ],
   "source": [
    "# Load the geopackages\n",
    "amenity_gdf = gpd.read_file(amenity_data)\n",
    "historic_gdf = gpd.read_file(historic_data)\n",
    "shops_gdf = gpd.read_file(shops_data)\n",
    "tourism_gdf = gpd.read_file(tourism_data)\n",
    "\n",
    "# Combine the geometries using pd.concat\n",
    "all_points_gdf = pd.concat([amenity_gdf, historic_gdf, shops_gdf, tourism_gdf], ignore_index=True)\n",
    "\n",
    "# Reproject to EPSG:4326 (WGS 84)\n",
    "all_points_gdf = all_points_gdf.to_crs(epsg=4326)\n",
    "\n",
    "print(\"Merged and converted geopackages to EPSG:4326\")"
   ]
  },
  {
   "cell_type": "code",
   "execution_count": 5,
   "id": "fc56b4ad-ef53-4cc9-93dd-f56907788bd6",
   "metadata": {},
   "outputs": [],
   "source": [
    "# Create the new column 'place_name' and fill it with values from 'REMARK' and 'name_en', falling back to 'name'\n",
    "all_points_gdf['place_name'] = all_points_gdf['name_en'].combine_first(all_points_gdf['name'])"
   ]
  },
  {
   "cell_type": "code",
   "execution_count": 6,
   "id": "082cbf5a-8177-4a32-9adf-6ff0e20c09de",
   "metadata": {},
   "outputs": [
    {
     "data": {
      "text/html": [
       "<div>\n",
       "<style scoped>\n",
       "    .dataframe tbody tr th:only-of-type {\n",
       "        vertical-align: middle;\n",
       "    }\n",
       "\n",
       "    .dataframe tbody tr th {\n",
       "        vertical-align: top;\n",
       "    }\n",
       "\n",
       "    .dataframe thead th {\n",
       "        text-align: right;\n",
       "    }\n",
       "</style>\n",
       "<table border=\"1\" class=\"dataframe\">\n",
       "  <thead>\n",
       "    <tr style=\"text-align: right;\">\n",
       "      <th></th>\n",
       "      <th>amenity</th>\n",
       "      <th>name_en</th>\n",
       "      <th>name</th>\n",
       "      <th>geometry</th>\n",
       "      <th>shop</th>\n",
       "      <th>tourism</th>\n",
       "      <th>place_name</th>\n",
       "    </tr>\n",
       "  </thead>\n",
       "  <tbody>\n",
       "    <tr>\n",
       "      <th>0</th>\n",
       "      <td>cinema</td>\n",
       "      <td>None</td>\n",
       "      <td>BLW Cinema Hall</td>\n",
       "      <td>POINT (82.96189 25.28626)</td>\n",
       "      <td>NaN</td>\n",
       "      <td>NaN</td>\n",
       "      <td>BLW Cinema Hall</td>\n",
       "    </tr>\n",
       "    <tr>\n",
       "      <th>1</th>\n",
       "      <td>hospital</td>\n",
       "      <td>None</td>\n",
       "      <td>Mata Anandmayee Hosiptal</td>\n",
       "      <td>POINT (83.00551 25.2929)</td>\n",
       "      <td>NaN</td>\n",
       "      <td>NaN</td>\n",
       "      <td>Mata Anandmayee Hosiptal</td>\n",
       "    </tr>\n",
       "    <tr>\n",
       "      <th>2</th>\n",
       "      <td>place_of_worship</td>\n",
       "      <td>Sankat Mochan Hanuman Temple (Mandir)</td>\n",
       "      <td>संकट मोचन हनुमान मंदिर</td>\n",
       "      <td>POINT (82.99991 25.28199)</td>\n",
       "      <td>NaN</td>\n",
       "      <td>NaN</td>\n",
       "      <td>Sankat Mochan Hanuman Temple (Mandir)</td>\n",
       "    </tr>\n",
       "    <tr>\n",
       "      <th>3</th>\n",
       "      <td>place_of_worship</td>\n",
       "      <td>None</td>\n",
       "      <td>Baba Keenaram Ashram</td>\n",
       "      <td>POINT (83.00328 25.29589)</td>\n",
       "      <td>NaN</td>\n",
       "      <td>NaN</td>\n",
       "      <td>Baba Keenaram Ashram</td>\n",
       "    </tr>\n",
       "    <tr>\n",
       "      <th>4</th>\n",
       "      <td>place_of_worship</td>\n",
       "      <td>None</td>\n",
       "      <td>St Marys Church</td>\n",
       "      <td>POINT (82.97945 25.33614)</td>\n",
       "      <td>NaN</td>\n",
       "      <td>NaN</td>\n",
       "      <td>St Marys Church</td>\n",
       "    </tr>\n",
       "  </tbody>\n",
       "</table>\n",
       "</div>"
      ],
      "text/plain": [
       "            amenity                                name_en  \\\n",
       "0            cinema                                   None   \n",
       "1          hospital                                   None   \n",
       "2  place_of_worship  Sankat Mochan Hanuman Temple (Mandir)   \n",
       "3  place_of_worship                                   None   \n",
       "4  place_of_worship                                   None   \n",
       "\n",
       "                       name                   geometry shop tourism  \\\n",
       "0           BLW Cinema Hall  POINT (82.96189 25.28626)  NaN     NaN   \n",
       "1  Mata Anandmayee Hosiptal   POINT (83.00551 25.2929)  NaN     NaN   \n",
       "2    संकट मोचन हनुमान मंदिर  POINT (82.99991 25.28199)  NaN     NaN   \n",
       "3      Baba Keenaram Ashram  POINT (83.00328 25.29589)  NaN     NaN   \n",
       "4           St Marys Church  POINT (82.97945 25.33614)  NaN     NaN   \n",
       "\n",
       "                              place_name  \n",
       "0                        BLW Cinema Hall  \n",
       "1               Mata Anandmayee Hosiptal  \n",
       "2  Sankat Mochan Hanuman Temple (Mandir)  \n",
       "3                   Baba Keenaram Ashram  \n",
       "4                        St Marys Church  "
      ]
     },
     "execution_count": 6,
     "metadata": {},
     "output_type": "execute_result"
    }
   ],
   "source": [
    "all_points_gdf.head()"
   ]
  },
  {
   "cell_type": "code",
   "execution_count": 7,
   "id": "c0426bda-b350-467b-ae5e-0cf9ad1e28d3",
   "metadata": {},
   "outputs": [],
   "source": [
    "gdf_final = all_points_gdf.drop_duplicates(subset=['place_name'], keep='first')"
   ]
  },
  {
   "cell_type": "code",
   "execution_count": 8,
   "id": "1934497d-43a7-426d-8b88-b767fb71f027",
   "metadata": {
    "scrolled": true
   },
   "outputs": [],
   "source": [
    "# Uncomment to view rows 200 to 250 to check if the place name attribute is cleaned up\n",
    "# gdf_final.iloc[200:250]"
   ]
  },
  {
   "cell_type": "markdown",
   "id": "6f4fb9ab-c7f2-4f27-8a4b-d3bf06d74f2c",
   "metadata": {},
   "source": [
    "## 2. Routing"
   ]
  },
  {
   "cell_type": "markdown",
   "id": "24339a86-69d1-4911-962d-24970e4e512e",
   "metadata": {},
   "source": [
    "### 2a. Get start and end point coordinates\n",
    "\n",
    "- There are 3 options to get start point\n",
    "    1. Select from Dropdown - select from the list of places in the dropdown. By default the option is disabled, click on other option and select 'drop down radio button.\n",
    "    2. Get Current Location - selecting this will use location based on your ip address\n",
    "    3. Select from Map - this option will enable a map to click on the desired location\n",
    "-  Select drop point from the drop down menu\n",
    "-  click ok to finalise start and stop location"
   ]
  },
  {
   "cell_type": "code",
   "execution_count": null,
   "id": "493a4c05-c306-40ae-b34e-7b1e2c470092",
   "metadata": {},
   "outputs": [
    {
     "data": {
      "application/vnd.jupyter.widget-view+json": {
       "model_id": "ba3c52a5485849bab1ac65f29eec1e76",
       "version_major": 2,
       "version_minor": 0
      },
      "text/plain": [
       "RadioButtons(description='Start Point Method:', options=('Select from Dropdown', 'Get Current Location', 'Sele…"
      ]
     },
     "metadata": {},
     "output_type": "display_data"
    },
    {
     "data": {
      "application/vnd.jupyter.widget-view+json": {
       "model_id": "b8d38a1859eb43818dda6f272c13c316",
       "version_major": 2,
       "version_minor": 0
      },
      "text/plain": [
       "Dropdown(description='Start Point:', disabled=True, options=('BLW Cinema Hall', 'Mata Anandmayee Hosiptal', 'S…"
      ]
     },
     "metadata": {},
     "output_type": "display_data"
    },
    {
     "data": {
      "application/vnd.jupyter.widget-view+json": {
       "model_id": "4290fc2acb214867904e828a78a252de",
       "version_major": 2,
       "version_minor": 0
      },
      "text/plain": [
       "Dropdown(description='End Point:', options=('BLW Cinema Hall', 'Mata Anandmayee Hosiptal', 'Sankat Mochan Hanu…"
      ]
     },
     "metadata": {},
     "output_type": "display_data"
    },
    {
     "data": {
      "application/vnd.jupyter.widget-view+json": {
       "model_id": "a8f78acaa3ef4094abac7b8e0e2dbeea",
       "version_major": 2,
       "version_minor": 0
      },
      "text/plain": [
       "Button(button_style='success', description='OK', style=ButtonStyle())"
      ]
     },
     "metadata": {},
     "output_type": "display_data"
    },
    {
     "data": {
      "application/vnd.jupyter.widget-view+json": {
       "model_id": "6501ca813ac9459aa6f730e4f506d622",
       "version_major": 2,
       "version_minor": 0
      },
      "text/plain": [
       "VBox()"
      ]
     },
     "metadata": {},
     "output_type": "display_data"
    },
    {
     "data": {
      "application/vnd.jupyter.widget-view+json": {
       "model_id": "f6c2bdfa1df749cbbeaef7fc55cf887d",
       "version_major": 2,
       "version_minor": 0
      },
      "text/plain": [
       "Output()"
      ]
     },
     "metadata": {},
     "output_type": "display_data"
    }
   ],
   "source": [
    "import os\n",
    "import geopandas as gpd\n",
    "import pandas as pd\n",
    "import ipywidgets as widgets\n",
    "from IPython.display import display, clear_output\n",
    "from shapely.geometry import Point\n",
    "import requests\n",
    "import ipyleaflet as ipyl\n",
    "import time\n",
    "import warnings\n",
    "\n",
    "warnings.filterwarnings(\"ignore\")\n",
    "\n",
    "# Function to get current location via ipinfo\n",
    "def get_current_location():\n",
    "    response = requests.get(\"https://ipinfo.io/json\", timeout=5).json()\n",
    "    lat_str, lon_str = response.get(\"loc\", \",\").split(\",\")\n",
    "    return float(lat_str), float(lon_str)\n",
    "\n",
    "# Convert shapely.geometry.Point → (lat, lon)\n",
    "def coords_to_latlon(point):\n",
    "    if isinstance(point, Point):\n",
    "        return (point.y, point.x)\n",
    "    return None\n",
    "\n",
    "# ipyleaflet widget for selecting point\n",
    "_marker = None\n",
    "\n",
    "def create_ipyleaflet_picker(center_latlon):\n",
    "    global _marker\n",
    "    m = ipyl.Map(center=center_latlon, zoom=5,\n",
    "                 basemap=ipyl.basemaps.OpenStreetMap.Mapnik,\n",
    "                 scroll_wheel_zoom=True,\n",
    "                 layout=widgets.Layout(height='400px'))\n",
    "\n",
    "    _marker = ipyl.Marker(location=center_latlon, draggable=True)\n",
    "    m.add_layer(_marker)\n",
    "\n",
    "    info = widgets.HTML(\"Drag the marker or click on the map to choose your start point.\")\n",
    "\n",
    "    def handle_click(**kwargs):\n",
    "        if kwargs.get(\"type\") == \"click\":\n",
    "            _marker.location = kwargs[\"coordinates\"]\n",
    "\n",
    "    m.on_interaction(handle_click)\n",
    "\n",
    "    out_map = widgets.Output()\n",
    "    with out_map:\n",
    "        display(m)\n",
    "\n",
    "    return widgets.VBox([info, out_map])\n",
    "\n",
    "# ---------------------------------------------------------------\n",
    "# UI Widgets\n",
    "\n",
    "end_dropdown = widgets.Dropdown(\n",
    "    options=gdf_final['place_name'].dropna().unique().tolist(),\n",
    "    description='End Point:',\n",
    "    disabled=False,\n",
    ")\n",
    "\n",
    "start_method = widgets.RadioButtons(\n",
    "    options=['Select from Dropdown', 'Get Current Location', 'Select from Map'],\n",
    "    description='Start Point Method:',\n",
    "    disabled=False\n",
    ")\n",
    "\n",
    "start_dropdown = widgets.Dropdown(\n",
    "    options=gdf_final['place_name'].dropna().unique().tolist(),\n",
    "    description='Start Point:',\n",
    "    disabled=True\n",
    ")\n",
    "\n",
    "ok_button = widgets.Button(\n",
    "    description='OK',\n",
    "    button_style='success',\n",
    ")\n",
    "\n",
    "map_container = widgets.VBox()\n",
    "output = widgets.Output()\n",
    "\n",
    "# Debounce logic to prevent multiple rapid clicks\n",
    "\n",
    "last_click_time = 0\n",
    "\n",
    "start_coord = None\n",
    "end_coord = None\n",
    "\n",
    "# Function called when OK is pressed\n",
    "\n",
    "def update_coordinates(button):\n",
    "    global last_click_time\n",
    "    global start_coord, end_coord, _marker\n",
    "\n",
    "    # Debounce to avoid multiple rapid clicks\n",
    "    current_time = time.time()\n",
    "    if current_time - last_click_time < 0.5:\n",
    "        return\n",
    "    last_click_time = current_time\n",
    "\n",
    "    with output:\n",
    "        clear_output()\n",
    "\n",
    "        # Determine start coordinate\n",
    "        if start_method.value == 'Select from Dropdown':\n",
    "            start_place = start_dropdown.value\n",
    "            if start_place:\n",
    "                start_point = gdf_final.loc[gdf_final['place_name'] == start_place, 'geometry'].values[0]\n",
    "                start_coord = coords_to_latlon(start_point)\n",
    "        elif start_method.value == 'Get Current Location':\n",
    "            start_coord = get_current_location()\n",
    "        elif start_method.value == 'Select from Map':\n",
    "            if _marker is None:\n",
    "                print(\"No point selected yet.\")\n",
    "                return\n",
    "            start_coord = tuple(_marker.location)\n",
    "\n",
    "        # Determine end coordinate\n",
    "        end_place = end_dropdown.value\n",
    "        if end_place:\n",
    "            end_point = gdf_final.loc[gdf_final['place_name'] == end_place, 'geometry'].values[0]\n",
    "            end_coord = coords_to_latlon(end_point)\n",
    "\n",
    "        print(f\"Start Coordinate: {start_coord}\")\n",
    "        print(f\"End Coordinate: {end_coord}\")\n",
    "\n",
    "\n",
    "# Function called when radio button changes\n",
    "\n",
    "def on_method_change(change):\n",
    "    selected_method = change.new\n",
    "    map_container.children = []\n",
    "    if selected_method == 'Select from Dropdown':\n",
    "        start_dropdown.disabled = False\n",
    "    elif selected_method == 'Get Current Location':\n",
    "        start_dropdown.disabled = True\n",
    "    elif selected_method == 'Select from Map':\n",
    "        start_dropdown.disabled = True\n",
    "        centroid = gdf_final.to_crs(\"EPSG:4326\").geometry.unary_union.centroid\n",
    "        center_latlon = [centroid.y, centroid.x]\n",
    "        map_picker = create_ipyleaflet_picker(center_latlon)\n",
    "        map_container.children = [map_picker]\n",
    "\n",
    "# Wire up events\n",
    "start_method.observe(on_method_change, names='value')\n",
    "ok_button.on_click(update_coordinates)\n",
    "\n",
    "# Display widgets\n",
    "display(start_method, start_dropdown, end_dropdown, ok_button, map_container, output)\n"
   ]
  },
  {
   "cell_type": "markdown",
   "id": "6bcb41e3-7b73-4c96-bf22-24b07a988990",
   "metadata": {},
   "source": [
    "### 2b. Create coordinate list to input to graphhopper API"
   ]
  },
  {
   "cell_type": "code",
   "execution_count": 14,
   "id": "6952c818-f696-49c3-a66c-9bfe814b0849",
   "metadata": {},
   "outputs": [
    {
     "name": "stdout",
     "output_type": "stream",
     "text": [
      "List of coordinates: [(25.28625570000001, 82.9618939), (25.292902899999998, 83.0055074)]\n"
     ]
    }
   ],
   "source": [
    "#create a list to add the coordinates\n",
    "coordinates_list = []\n",
    "\n",
    "if start_coord:\n",
    "    coordinates_list.append(start_coord)\n",
    "\n",
    "if end_coord:\n",
    "    coordinates_list.append(end_coord)\n",
    "\n",
    "# Print the list of coordinates\n",
    "print(\"List of coordinates:\", coordinates_list)\n"
   ]
  },
  {
   "attachments": {
    "1114e9cb-2bda-4b67-9722-ca7eca3c8051.png": {
     "image/png": "[encoded data removed]"
    }
   },
   "cell_type": "markdown",
   "id": "568b80b3-3a5f-4970-bf24-50c0d52b1d6b",
   "metadata": {},
   "source": [
    "### 2c. get distance, duration and route between the points using Graphhopper\n",
    "(create an account in https://www.graphhopper.com/ and add a key - https://graphhopper.com/dashboard/#/apikeys)\n",
    "![image.png](attachment:1114e9cb-2bda-4b67-9722-ca7eca3c8051.png)"
   ]
  },
  {
   "cell_type": "code",
   "execution_count": null,
   "id": "e4359b4c-6b19-4550-880f-36f7a1431984",
   "metadata": {},
   "outputs": [],
   "source": [
    "api_key = ''  # Replace with your GraphHopper API key"
   ]
  },
  {
   "cell_type": "code",
   "execution_count": 19,
   "id": "ff7675ad-93fd-40a1-a4cd-2999af5aa611",
   "metadata": {
    "scrolled": true
   },
   "outputs": [
    {
     "name": "stdout",
     "output_type": "stream",
     "text": [
      "Distance: 5.4314610000000005 km\n",
      "Duration: 0.26633222222222225 hours ( 15.979933333333335 minutes )\n",
      "Route response: {'hints': {'visited_nodes.sum': 624, 'visited_nodes.average': 624.0}, 'info': {'copyrights': ['GraphHopper', 'OpenStreetMap contributors'], 'took': 2, 'road_data_timestamp': '2025-07-06T18:00:00Z'}, 'paths': [{'distance': 5431.461, 'weight': 1040.267851, 'time': 958796, 'transfers': 0, 'points_encoded': True, 'points_encoded_multiplier': 100000.0, 'bbox': [82.962064, 25.282668, 83.005593, 25.293706], 'points': 'eriyC{ojyNmA}Ie@sCQmBYmB?c@t@{Q@MhCXtCRf@Dh@HJc@LoALuELaBLqA`@eHPcFZgIJoG?YH_DZ{H^{GHkBRoKHm@TcARq@LWa@iAUu@i@uBc@mAgAgDWu@g@gACIKAKEcAo@eAg@o@Y_@Mm@QuFeA]Ks@YeAe@o@G]KeA{@o@c@WOgB]gAMm@M}@Wk@MI_@IYOWW[SYS]O]u@gCq@cB{@eBOQQOiAg@g@Y_As@]]s@g@iAi@s@UXu@Ne@R{@DSFeAL@Fy@GKAWJcA\\\\yCLYLmBAa@PeELiBV}BAEAEBEJoAFq@@{@AOEUe@uBc@eBECECAGAG@GBEBEFAUyBCwC?a@LmB@g@@o@tAAGC@aAAq@KI', 'instructions': [{'distance': 702.131, 'heading': 76.19, 'sign': 0, 'interval': [0, 7], 'text': 'Continue', 'time': 157981, 'street_name': ''}, {'street_ref': 'SH74', 'distance': 208.123, 'sign': 2, 'interval': [7, 11], 'text': 'Turn right onto SH74', 'time': 31218, 'street_name': ''}, {'distance': 1582.609, 'sign': -2, 'interval': [11, 30], 'text': 'Turn left', 'time': 237390, 'street_name': ''}, {'distance': 350.818, 'sign': -2, 'interval': [30, 38], 'text': 'Turn left', 'time': 78934, 'street_name': ''}, {'distance': 743.563, 'sign': -2, 'interval': [38, 59], 'text': 'Turn left', 'time': 121674, 'street_name': ''}, {'distance': 250.685, 'sign': 2, 'interval': [59, 68], 'text': 'Turn right', 'time': 41021, 'street_name': ''}, {'distance': 336.73, 'sign': -7, 'interval': [68, 78], 'text': 'Keep left', 'time': 55102, 'street_name': ''}, {'distance': 130.005, 'sign': 2, 'interval': [78, 83], 'text': 'Turn right', 'time': 29251, 'street_name': ''}, {'distance': 7.989, 'sign': 2, 'interval': [83, 84], 'text': 'Turn right', 'time': 1798, 'street_name': ''}, {'distance': 29.089, 'sign': -2, 'interval': [84, 85], 'text': 'Turn left', 'time': 6545, 'street_name': ''}, {'distance': 440.746, 'sign': -1, 'interval': [85, 95], 'text': 'Turn slight left', 'time': 72123, 'street_name': ''}, {'exit_number': 2, 'distance': 244.211, 'sign': 6, 'exited': True, 'turn_angle': 3.11, 'interval': [95, 105], 'text': 'At roundabout, take exit 2', 'time': 39961, 'street_name': ''}, {'exit_number': 2, 'distance': 287.372, 'sign': 6, 'exited': True, 'turn_angle': 3.33, 'interval': [105, 119], 'text': 'At roundabout, take exit 2', 'time': 62276, 'street_name': ''}, {'distance': 47.109, 'sign': 2, 'interval': [119, 120], 'text': 'Turn right onto Pandit Manmohan Malviya Road', 'time': 7709, 'street_name': 'Pandit Manmohan Malviya Road'}, {'distance': 4.153, 'sign': -3, 'interval': [120, 121], 'text': 'Turn sharp left', 'time': 934, 'street_name': ''}, {'distance': 66.128, 'sign': 2, 'interval': [121, 124], 'text': 'Turn right', 'time': 14879, 'street_name': ''}, {'distance': 0.0, 'sign': 4, 'last_heading': 45.00010522957486, 'interval': [124, 124], 'text': 'Arrive at destination', 'time': 0, 'street_name': ''}], 'legs': [], 'details': {}, 'ascend': 27.7359619140625, 'descend': 27.14898681640625, 'snapped_waypoints': 'eriyC{ojyN{j@aoG'}]}\n"
     ]
    }
   ],
   "source": [
    "from graphh import GraphHopper\n",
    "\n",
    "# Initialize GraphHopper\n",
    "gh_client = GraphHopper(api_key=api_key)\n",
    "\n",
    "distance = gh_client.distance(coordinates_list, unit='km')\n",
    "print(\"Distance:\" ,distance, \"km\")\n",
    "duration = gh_client.duration(coordinates_list, vehicle='car', unit='h')\n",
    "print(\"Duration:\", duration, \"hours (\", duration*60, \"minutes )\")\n",
    "route = gh_client.route(coordinates_list, request='get', vehicle='car', locale='en', calc_points='true', instructions='true', points_encoded='true', elevation='false')\n",
    "print(\"Route response:\", route)"
   ]
  },
  {
   "cell_type": "code",
   "execution_count": 17,
   "id": "d57773b6-f20d-4292-ab1a-f77185041b53",
   "metadata": {},
   "outputs": [
    {
     "data": {
      "text/html": [
       "<div style=\"width:100%;\"><div style=\"position:relative;width:100%;height:0;padding-bottom:60%;\"><span style=\"color:#565656\">Make this Notebook Trusted to load map: File -> Trust Notebook</span><iframe srcdoc=\"&lt;!DOCTYPE html&gt;\n",
       "&lt;html&gt;\n",
       "&lt;head&gt;\n",
       "    \n",
       "    &lt;meta http-equiv=&quot;content-type&quot; content=&quot;text/html; charset=UTF-8&quot; /&gt;\n",
       "    \n",
       "        &lt;script&gt;\n",
       "            L_NO_TOUCH = false;\n",
       "            L_DISABLE_3D = false;\n",
       "        &lt;/script&gt;\n",
       "    \n",
       "    &lt;style&gt;html, body {width: 100%;height: 100%;margin: 0;padding: 0;}&lt;/style&gt;\n",
       "    &lt;style&gt;#map {position:absolute;top:0;bottom:0;right:0;left:0;}&lt;/style&gt;\n",
       "    &lt;script src=&quot;https://cdn.jsdelivr.net/npm/leaflet@1.9.3/dist/leaflet.js&quot;&gt;&lt;/script&gt;\n",
       "    &lt;script src=&quot;https://code.jquery.com/jquery-3.7.1.min.js&quot;&gt;&lt;/script&gt;\n",
       "    &lt;script src=&quot;https://cdn.jsdelivr.net/npm/bootstrap@5.2.2/dist/js/bootstrap.bundle.min.js&quot;&gt;&lt;/script&gt;\n",
       "    &lt;script src=&quot;https://cdnjs.cloudflare.com/ajax/libs/Leaflet.awesome-markers/2.0.2/leaflet.awesome-markers.js&quot;&gt;&lt;/script&gt;\n",
       "    &lt;link rel=&quot;stylesheet&quot; href=&quot;https://cdn.jsdelivr.net/npm/leaflet@1.9.3/dist/leaflet.css&quot;/&gt;\n",
       "    &lt;link rel=&quot;stylesheet&quot; href=&quot;https://cdn.jsdelivr.net/npm/bootstrap@5.2.2/dist/css/bootstrap.min.css&quot;/&gt;\n",
       "    &lt;link rel=&quot;stylesheet&quot; href=&quot;https://netdna.bootstrapcdn.com/bootstrap/3.0.0/css/bootstrap-glyphicons.css&quot;/&gt;\n",
       "    &lt;link rel=&quot;stylesheet&quot; href=&quot;https://cdn.jsdelivr.net/npm/@fortawesome/fontawesome-free@6.2.0/css/all.min.css&quot;/&gt;\n",
       "    &lt;link rel=&quot;stylesheet&quot; href=&quot;https://cdnjs.cloudflare.com/ajax/libs/Leaflet.awesome-markers/2.0.2/leaflet.awesome-markers.css&quot;/&gt;\n",
       "    &lt;link rel=&quot;stylesheet&quot; href=&quot;https://cdn.jsdelivr.net/gh/python-visualization/folium/folium/templates/leaflet.awesome.rotate.min.css&quot;/&gt;\n",
       "    \n",
       "            &lt;meta name=&quot;viewport&quot; content=&quot;width=device-width,\n",
       "                initial-scale=1.0, maximum-scale=1.0, user-scalable=no&quot; /&gt;\n",
       "            &lt;style&gt;\n",
       "                #map_2d4a63e839ba453c3b4190ddab365300 {\n",
       "                    position: relative;\n",
       "                    width: 100.0%;\n",
       "                    height: 100.0%;\n",
       "                    left: 0.0%;\n",
       "                    top: 0.0%;\n",
       "                }\n",
       "                .leaflet-container { font-size: 1rem; }\n",
       "            &lt;/style&gt;\n",
       "        \n",
       "&lt;/head&gt;\n",
       "&lt;body&gt;\n",
       "    \n",
       "    \n",
       "            &lt;div class=&quot;folium-map&quot; id=&quot;map_2d4a63e839ba453c3b4190ddab365300&quot; &gt;&lt;/div&gt;\n",
       "        \n",
       "&lt;/body&gt;\n",
       "&lt;script&gt;\n",
       "    \n",
       "    \n",
       "            var map_2d4a63e839ba453c3b4190ddab365300 = L.map(\n",
       "                &quot;map_2d4a63e839ba453c3b4190ddab365300&quot;,\n",
       "                {\n",
       "                    center: [25.28563, 82.96206],\n",
       "                    crs: L.CRS.EPSG3857,\n",
       "                    ...{\n",
       "  &quot;zoom&quot;: 12,\n",
       "  &quot;zoomControl&quot;: true,\n",
       "  &quot;preferCanvas&quot;: false,\n",
       "}\n",
       "\n",
       "                }\n",
       "            );\n",
       "\n",
       "            \n",
       "\n",
       "        \n",
       "    \n",
       "            var tile_layer_8daf63938986fe5cbf4837cd021c551d = L.tileLayer(\n",
       "                &quot;https://tile.openstreetmap.org/{z}/{x}/{y}.png&quot;,\n",
       "                {\n",
       "  &quot;minZoom&quot;: 0,\n",
       "  &quot;maxZoom&quot;: 19,\n",
       "  &quot;maxNativeZoom&quot;: 19,\n",
       "  &quot;noWrap&quot;: false,\n",
       "  &quot;attribution&quot;: &quot;\\u0026copy; \\u003ca href=\\&quot;https://www.openstreetmap.org/copyright\\&quot;\\u003eOpenStreetMap\\u003c/a\\u003e contributors&quot;,\n",
       "  &quot;subdomains&quot;: &quot;abc&quot;,\n",
       "  &quot;detectRetina&quot;: false,\n",
       "  &quot;tms&quot;: false,\n",
       "  &quot;opacity&quot;: 1,\n",
       "}\n",
       "\n",
       "            );\n",
       "        \n",
       "    \n",
       "            tile_layer_8daf63938986fe5cbf4837cd021c551d.addTo(map_2d4a63e839ba453c3b4190ddab365300);\n",
       "        \n",
       "    \n",
       "            var poly_line_24a55e1a46e3cef653647c2ab21788fd = L.polyline(\n",
       "                [[25.28563, 82.96206], [25.28602, 82.96381], [25.28621, 82.96455], [25.2863, 82.9651], [25.28643, 82.96565], [25.28643, 82.96583], [25.28616, 82.96885], [25.28615, 82.96892], [25.28546, 82.96879], [25.28471, 82.96869], [25.28451, 82.96866], [25.2843, 82.96861], [25.28424, 82.96879], [25.28417, 82.96919], [25.2841, 82.97026], [25.28403, 82.97075], [25.28396, 82.97116], [25.28379, 82.97263], [25.2837, 82.97377], [25.28356, 82.97541], [25.2835, 82.97677], [25.2835, 82.9769], [25.28345, 82.9777], [25.28331, 82.97928], [25.28315, 82.9807], [25.2831, 82.98124], [25.283, 82.98324], [25.28295, 82.98347], [25.28284, 82.98381], [25.28274, 82.98406], [25.28267, 82.98418], [25.28284, 82.98455], [25.28295, 82.98482], [25.28316, 82.98541], [25.28334, 82.9858], [25.2837, 82.98664], [25.28382, 82.98691], [25.28402, 82.98727], [25.28404, 82.98732], [25.2841, 82.98733], [25.28416, 82.98736], [25.2845, 82.9876], [25.28485, 82.9878], [25.28509, 82.98793], [25.28525, 82.988], [25.28548, 82.98809], [25.28671, 82.98844], [25.28686, 82.9885], [25.28712, 82.98863], [25.28747, 82.98882], [25.28771, 82.98886], [25.28786, 82.98892], [25.28821, 82.98922], [25.28845, 82.9894], [25.28857, 82.98948], [25.28909, 82.98963], [25.28945, 82.9897], [25.28968, 82.98977], [25.28999, 82.98989], [25.29021, 82.98996], [25.29026, 82.99012], [25.29031, 82.99025], [25.29039, 82.99037], [25.29051, 82.99051], [25.29061, 82.99064], [25.29071, 82.99079], [25.29079, 82.99094], [25.29106, 82.99162], [25.29131, 82.99212], [25.29161, 82.99263], [25.29169, 82.99272], [25.29178, 82.9928], [25.29215, 82.993], [25.29235, 82.99313], [25.29267, 82.99339], [25.29282, 82.99354], [25.29308, 82.99374], [25.29345, 82.99395], [25.29371, 82.99406], [25.29358, 82.99433], [25.2935, 82.99452], [25.2934, 82.99482], [25.29337, 82.99492], [25.29333, 82.99527], [25.29326, 82.99526], [25.29322, 82.99555], [25.29326, 82.99561], [25.29327, 82.99573], [25.29321, 82.99607], [25.29306, 82.99684], [25.29299, 82.99697], [25.29292, 82.99752], [25.29293, 82.99769], [25.29284, 82.99868], [25.29277, 82.99921], [25.29265, 82.99984], [25.29266, 82.99987], [25.29267, 82.9999], [25.29265, 82.99993], [25.29259, 83.00033], [25.29255, 83.00058], [25.29254, 83.00088], [25.29255, 83.00096], [25.29258, 83.00107], [25.29277, 83.00166], [25.29295, 83.00217], [25.29298, 83.00219], [25.29301, 83.00221], [25.29302, 83.00225], [25.29303, 83.00229], [25.29302, 83.00233], [25.293, 83.00236], [25.29298, 83.00239], [25.29294, 83.0024], [25.29305, 83.00301], [25.29307, 83.00377], [25.29307, 83.00394], [25.293, 83.00449], [25.29299, 83.00469], [25.29298, 83.00493], [25.29255, 83.00494], [25.29259, 83.00496], [25.29258, 83.00529], [25.29259, 83.00554], [25.29265, 83.00559]],\n",
       "                {&quot;bubblingMouseEvents&quot;: true, &quot;color&quot;: &quot;blue&quot;, &quot;dashArray&quot;: null, &quot;dashOffset&quot;: null, &quot;fill&quot;: false, &quot;fillColor&quot;: &quot;blue&quot;, &quot;fillOpacity&quot;: 0.2, &quot;fillRule&quot;: &quot;evenodd&quot;, &quot;lineCap&quot;: &quot;round&quot;, &quot;lineJoin&quot;: &quot;round&quot;, &quot;noClip&quot;: false, &quot;opacity&quot;: 0.8, &quot;smoothFactor&quot;: 1.0, &quot;stroke&quot;: true, &quot;weight&quot;: 5}\n",
       "            ).addTo(map_2d4a63e839ba453c3b4190ddab365300);\n",
       "        \n",
       "    \n",
       "            var marker_0e2446c3d1e67f50b910813199509fb9 = L.marker(\n",
       "                [25.28563, 82.96206],\n",
       "                {\n",
       "}\n",
       "            ).addTo(map_2d4a63e839ba453c3b4190ddab365300);\n",
       "        \n",
       "    \n",
       "            var icon_0f8bedd438357bcb8850c52da279e7e1 = L.AwesomeMarkers.icon(\n",
       "                {\n",
       "  &quot;markerColor&quot;: &quot;green&quot;,\n",
       "  &quot;iconColor&quot;: &quot;white&quot;,\n",
       "  &quot;icon&quot;: &quot;info-sign&quot;,\n",
       "  &quot;prefix&quot;: &quot;glyphicon&quot;,\n",
       "  &quot;extraClasses&quot;: &quot;fa-rotate-0&quot;,\n",
       "}\n",
       "            );\n",
       "        \n",
       "    \n",
       "        var popup_75076819c7f8f9e940a485040c7ba6bd = L.popup({\n",
       "  &quot;maxWidth&quot;: 300,\n",
       "});\n",
       "\n",
       "        \n",
       "            \n",
       "                var i_frame_05c5753d25f5d9dd9646b2facb491e43 = $(`&lt;iframe src=&quot;data:text/html;charset=utf-8;base64,CiAgICBTdGFydCBQb2ludDogQkxXIENpbmVtYSBIYWxs&quot; width=&quot;250&quot; style=&quot;border:none !important;&quot; height=&quot;30&quot;&gt;&lt;/iframe&gt;`)[0];\n",
       "                popup_75076819c7f8f9e940a485040c7ba6bd.setContent(i_frame_05c5753d25f5d9dd9646b2facb491e43);\n",
       "            \n",
       "        \n",
       "\n",
       "        marker_0e2446c3d1e67f50b910813199509fb9.bindPopup(popup_75076819c7f8f9e940a485040c7ba6bd)\n",
       "        ;\n",
       "\n",
       "        \n",
       "    \n",
       "    \n",
       "                marker_0e2446c3d1e67f50b910813199509fb9.setIcon(icon_0f8bedd438357bcb8850c52da279e7e1);\n",
       "            \n",
       "    \n",
       "            var marker_7636d1a8aa9c7325cbb7053520fc0ff3 = L.marker(\n",
       "                [25.29265, 83.00559],\n",
       "                {\n",
       "}\n",
       "            ).addTo(map_2d4a63e839ba453c3b4190ddab365300);\n",
       "        \n",
       "    \n",
       "            var icon_dc8ccb386833861b4589cb798f7aa41d = L.AwesomeMarkers.icon(\n",
       "                {\n",
       "  &quot;markerColor&quot;: &quot;red&quot;,\n",
       "  &quot;iconColor&quot;: &quot;white&quot;,\n",
       "  &quot;icon&quot;: &quot;info-sign&quot;,\n",
       "  &quot;prefix&quot;: &quot;glyphicon&quot;,\n",
       "  &quot;extraClasses&quot;: &quot;fa-rotate-0&quot;,\n",
       "}\n",
       "            );\n",
       "        \n",
       "    \n",
       "        var popup_c906b728a273d7c633d98826b0885983 = L.popup({\n",
       "  &quot;maxWidth&quot;: 300,\n",
       "});\n",
       "\n",
       "        \n",
       "            \n",
       "                var i_frame_e0c0e89f7b7536c5cbc18a948b22a0c2 = $(`&lt;iframe src=&quot;data:text/html;charset=utf-8;base64,CiAgICBTdG9wIFBvaW50OiBNYXRhIEFuYW5kbWF5ZWUgSG9zaXB0YWw=&quot; width=&quot;250&quot; style=&quot;border:none !important;&quot; height=&quot;30&quot;&gt;&lt;/iframe&gt;`)[0];\n",
       "                popup_c906b728a273d7c633d98826b0885983.setContent(i_frame_e0c0e89f7b7536c5cbc18a948b22a0c2);\n",
       "            \n",
       "        \n",
       "\n",
       "        marker_7636d1a8aa9c7325cbb7053520fc0ff3.bindPopup(popup_c906b728a273d7c633d98826b0885983)\n",
       "        ;\n",
       "\n",
       "        \n",
       "    \n",
       "    \n",
       "                marker_7636d1a8aa9c7325cbb7053520fc0ff3.setIcon(icon_dc8ccb386833861b4589cb798f7aa41d);\n",
       "            \n",
       "&lt;/script&gt;\n",
       "&lt;/html&gt;\" style=\"position:absolute;width:100%;height:100%;left:0;top:0;border:none !important;\" allowfullscreen webkitallowfullscreen mozallowfullscreen></iframe></div></div>"
      ],
      "text/plain": [
       "<folium.folium.Map at 0x1c400698be0>"
      ]
     },
     "execution_count": 17,
     "metadata": {},
     "output_type": "execute_result"
    }
   ],
   "source": [
    "import folium\n",
    "from folium import IFrame\n",
    "from IPython.display import display, HTML\n",
    "\n",
    "\n",
    "# Prepare popup labels\n",
    "\n",
    "start_label = None\n",
    "end_label = None\n",
    "\n",
    "if start_method.value == 'Select from Dropdown':\n",
    "    start_label = f\"Start Point: {start_dropdown.value}\"\n",
    "elif start_method.value == 'Get Current Location':\n",
    "    start_label = \"Start Point: Current Location\"\n",
    "elif start_method.value == 'Select from Map':\n",
    "    start_label = \"Start Point: Selected on Map\"\n",
    "\n",
    "end_label = f\"Stop Point: {end_dropdown.value}\"\n",
    "\n",
    "\n",
    "# Extract the encoded polyline from the route response\n",
    "\n",
    "\n",
    "encoded_polyline = route.get('paths', [{}])[0].get('points', '')\n",
    "\n",
    "# Polyline decode function\n",
    "\n",
    "def decode_polyline(polyline_str):\n",
    "    \"\"\"Decode a Google Maps encoded polyline into lat/lon tuples.\"\"\"\n",
    "    index = 0\n",
    "    lat = 0\n",
    "    lng = 0\n",
    "    coordinates = []\n",
    "    while index < len(polyline_str):\n",
    "        b = 0\n",
    "        shift = 0\n",
    "        result = 0\n",
    "        while True:\n",
    "            b = ord(polyline_str[index]) - 63\n",
    "            index += 1\n",
    "            result |= (b & 0x1f) << shift\n",
    "            shift += 5\n",
    "            if b < 0x20:\n",
    "                break\n",
    "        delta_lat = ~(result >> 1) if result & 1 else result >> 1\n",
    "        lat += delta_lat\n",
    "        shift = 0\n",
    "        result = 0\n",
    "        while True:\n",
    "            b = ord(polyline_str[index]) - 63\n",
    "            index += 1\n",
    "            result |= (b & 0x1f) << shift\n",
    "            shift += 5\n",
    "            if b < 0x20:\n",
    "                break\n",
    "        delta_lng = ~(result >> 1) if result & 1 else result >> 1\n",
    "        lng += delta_lng\n",
    "        coordinates.append((lat / 1e5, lng / 1e5))\n",
    "    return coordinates\n",
    "\n",
    "# Decode the polyline\n",
    "decoded_points = decode_polyline(encoded_polyline)\n",
    "\n",
    "\n",
    "# Create Folium map centered on start point\n",
    "start_point = decoded_points[0]\n",
    "map_center = [start_point[0], start_point[1]]\n",
    "m = folium.Map(location=map_center, zoom_start=12)\n",
    "\n",
    "# Add route polyline to map\n",
    "\n",
    "folium.PolyLine(\n",
    "    decoded_points,\n",
    "    color='blue',\n",
    "    weight=5,\n",
    "    opacity=0.8\n",
    ").add_to(m)\n",
    "\n",
    "# Create wider popups using IFrame\n",
    "\n",
    "\n",
    "iframe_start = IFrame(html=start_label, width=250, height=30)\n",
    "popup_start = folium.Popup(iframe_start, max_width=300)\n",
    "\n",
    "iframe_end = IFrame(html=end_label, width=250, height=30)\n",
    "popup_end = folium.Popup(iframe_end, max_width=300)\n",
    "\n",
    "# Add markers with popups\n",
    "\n",
    "folium.Marker(\n",
    "    location=decoded_points[0],\n",
    "    popup=popup_start,\n",
    "    icon=folium.Icon(color='green')\n",
    ").add_to(m)\n",
    "\n",
    "folium.Marker(\n",
    "    location=decoded_points[-1],\n",
    "    popup=popup_end,\n",
    "    icon=folium.Icon(color='red')\n",
    ").add_to(m)\n",
    "\n",
    "# Display map inline\n",
    "m\n"
   ]
  },
  {
   "cell_type": "code",
   "execution_count": null,
   "id": "f392c0c7",
   "metadata": {},
   "outputs": [],
   "source": []
  }
 ],
 "metadata": {
  "kernelspec": {
   "display_name": "gdi",
   "language": "python",
   "name": "python3"
  },
  "language_info": {
   "codemirror_mode": {
    "name": "ipython",
    "version": 3
   },
   "file_extension": ".py",
   "mimetype": "text/x-python",
   "name": "python",
   "nbconvert_exporter": "python",
   "pygments_lexer": "ipython3",
   "version": "3.10.16"
  }
 },
 "nbformat": 4,
 "nbformat_minor": 5
}
